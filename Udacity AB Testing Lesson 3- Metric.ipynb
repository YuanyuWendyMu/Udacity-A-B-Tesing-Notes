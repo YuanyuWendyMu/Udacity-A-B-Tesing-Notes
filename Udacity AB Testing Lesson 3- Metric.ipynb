{
 "cells": [
  {
   "cell_type": "markdown",
   "metadata": {},
   "source": [
    "Metrics used for A/B testing are:\n",
    "1. Invariant metrics: metric should not move\n",
    "2. Evaluation metrics: \n",
    " - High level metric (always start with business objectives)  \n",
    " - Detailed metric for your test"
   ]
  },
  {
   "cell_type": "markdown",
   "metadata": {},
   "source": [
    "# Evaluation metric"
   ]
  },
  {
   "cell_type": "markdown",
   "metadata": {},
   "source": [
    "**Difficulty in designing high-level metric:**  \n",
    "- Data not available → find proxy\n",
    "\n",
    "**Difficulty in realizing metrics:**\n",
    "- Data capture issue  \n",
    "  Exp: Click-through-probability can be defined as:\n",
    "       - For each <time interval>, # of cookies who clicked / total number of cookies\n",
    "       - Or do not use unique users, use # of page views with a click within <time interval> / total # of page views\n",
    "       - Or just simply, # of clicks / # of page views\n",
    "\n",
    "- Filtering and segmentation: filter spam / fraud or slice your user group\n",
    "- Create summary metric and check for sensitivity and robustness  \n",
    "  Summary metrics can be:\n",
    "      - Sum & count\n",
    "      - Average / percentile\n",
    "      - Rate/ probability\n",
    "      - Ratios\n",
    "  Sensitivity: pick up the change you care about.i.e. if the factor you care about changed, the metric should change. e.g. change resolution of video change latency of a video  \n",
    "  Robustness: do not affect by other changes. i.e. if the factor you care about do not change then the metric should not change. e.g. if all videos are comparable, the metric should not vary too much   \n",
    "- Absolute vs relative change (% change): seasonality / run a lot of experiments at the same time\n",
    "- Variability:\n",
    "  ![alt text](Pic2.png \"Calculate varibility\")\n",
    "  For metric that can not be computed easily, we can use non-parametric(empirical) method by conducting AA tests.\n",
    "  AA test is useful when:\n",
    "       - Comparing with analytical CI calculated from above picture\n",
    "       - Estimate variance when it's hard to calculate analytically\n",
    "       - Or if you do not want to make any assumption\n",
    "       run a lot of AA tests:\n",
    "[examples](https://docs.google.com/spreadsheets/d/17wWNY2jkDlG9BDMYQq2l-ku_8HGajXuF2Zvy__dBEL4/edit#gid=0 \"Instructor example on AA tests-1\")\n",
    "\n",
    "       run bootstrap using a large AA test (as if you run many tests)\n",
    "[examples](https://docs.google.com/spreadsheets/d/1IFtnCTjMw023ixJIm7QvqAQ1M5peQnchyegYs1iVfyw/edit#gid=0 \"Instructor example on AA tests-2\")   \n",
    "       note: m here is calculated using SD(empirical) * Z\n",
    "  \n",
    "  "
   ]
  },
  {
   "cell_type": "code",
   "execution_count": 11,
   "metadata": {},
   "outputs": [
    {
     "name": "stdout",
     "output_type": "stream",
     "text": [
      "upper bond is 103432.0,lower bond is 80093.0\n"
     ]
    }
   ],
   "source": [
    "##Class example on varibility, video 22##\n",
    "import numpy as np\n",
    "df =  [87029, 113407, 84843, 104994, 99327, 92052, 60684]\n",
    "mean = sum(df)/len(df)\n",
    "std = np.std(df)\n",
    "se = std / np.sqrt(len(df))\n",
    "print(f'upper bond is {round(mean+1.96*se,0)},lower bond is {round(mean-1.96*se,0)}')"
   ]
  },
  {
   "cell_type": "markdown",
   "metadata": {},
   "source": [
    "Side note:\n",
    "Product analyst spent most of the time validating metrics!"
   ]
  }
 ],
 "metadata": {
  "kernelspec": {
   "display_name": "Python 3",
   "language": "python",
   "name": "python3"
  },
  "language_info": {
   "codemirror_mode": {
    "name": "ipython",
    "version": 3
   },
   "file_extension": ".py",
   "mimetype": "text/x-python",
   "name": "python",
   "nbconvert_exporter": "python",
   "pygments_lexer": "ipython3",
   "version": "3.7.4"
  },
  "toc": {
   "base_numbering": 1,
   "nav_menu": {},
   "number_sections": true,
   "sideBar": true,
   "skip_h1_title": false,
   "title_cell": "Table of Contents",
   "title_sidebar": "Contents",
   "toc_cell": false,
   "toc_position": {},
   "toc_section_display": true,
   "toc_window_display": false
  }
 },
 "nbformat": 4,
 "nbformat_minor": 2
}

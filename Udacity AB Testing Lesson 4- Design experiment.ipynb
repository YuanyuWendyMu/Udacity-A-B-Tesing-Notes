{
 "cells": [
  {
   "cell_type": "markdown",
   "metadata": {},
   "source": [
    "# Choose the Unit of Diversion"
   ]
  },
  {
   "cell_type": "markdown",
   "metadata": {},
   "source": [
    "## Types of unit of diversion\n",
    "- User identifier (User_id) \n",
    "  -ve: Could have multiple logins (e.g. one person could have a personal account and a business account)  \n",
    "  *personally identifiable*  \n",
    "  Will reassign users to control/exp group after they logged in.  \n",
    "  \n",
    "- Cookie (anonymous id)   \n",
    "  -ve: Not consistent across platforms  \n",
    "  Will reassign users to control/exp group after one session.  \n",
    "  \n",
    "- Event  \n",
    "  -ve:Will reassign users to control/exp group after a single event. (e.g. a search query)\n",
    "  \n",
    "There's also less used methods such as device_id (reassign based on device id) / ip address\n",
    "\n",
    "Quiz:\n",
    "![alt text](Pic3.jpg \"Choose Unit of Diversion\")"
   ]
  },
  {
   "cell_type": "markdown",
   "metadata": {},
   "source": [
    "## Unit of Diversion Vs Unit of Analysis\n",
    "**Unit of analysis**  \n",
    "Denominator of the test metric  \n",
    "**Unit of diversion**  \n",
    "When to re-divert users to another group  \n",
    "\n",
    "Unit of analysis could be different from unit of diversion. Using user_id/cookie as unit of diversion is basically grouping individual events together. So the variation will be larger than analytical variability."
   ]
  },
  {
   "cell_type": "markdown",
   "metadata": {},
   "source": [
    "Side note: research paper on unit of diversion and unit of analysis http://static.googleusercontent.com/media/research.google.com/en/us/pubs/archive/36500.pdf"
   ]
  },
  {
   "cell_type": "markdown",
   "metadata": {},
   "source": [
    "# Choose a population\n",
    "## Target population"
   ]
  },
  {
   "cell_type": "markdown",
   "metadata": {},
   "source": [
    "Suppose we are doing a inter-user experiment (some users in A side, different users in B side), if there's a group of user will be affected by your change, then you might want to run the experiment only on the target population."
   ]
  },
  {
   "cell_type": "code",
   "execution_count": 13,
   "metadata": {},
   "outputs": [
    {
     "name": "stdout",
     "output_type": "stream",
     "text": [
      "False\n",
      "True\n",
      "0.0013\n"
     ]
    }
   ],
   "source": [
    "##Quiz on target population, video 12\n",
    "import numpy as np\n",
    "p_hat_pool = (2500+2500+302+374)/(50000+50000+6021+5979)\n",
    "se_pool = round(np.sqrt(p_hat_pool*(1-p_hat_pool)*(1/(50000+6021)+1/(50000+5979))),4)\n",
    "d1 = 374/5979 - 302/6021\n",
    "d2 = (2500+374)/(50000+5979)-(2500+302)/(50000+6021)\n",
    "print(f'{0.0042*1.96>d1}')\n",
    "print(f'{se_pool*1.96>d2}')\n",
    "print(se_pool)"
   ]
  },
  {
   "cell_type": "markdown",
   "metadata": {},
   "source": [
    "## Use of a cohort instead of population"
   ]
  },
  {
   "cell_type": "markdown",
   "metadata": {},
   "source": [
    "Cohort: a class of people who joined at the same time  \n",
    "Reasons to use cohort analysis:\n",
    "- Measure learning effect\n",
    "- Examine retention\n",
    "- Increase user activity"
   ]
  },
  {
   "cell_type": "markdown",
   "metadata": {},
   "source": [
    "# Size the population"
   ]
  },
  {
   "cell_type": "markdown",
   "metadata": {},
   "source": [
    "Possible ways to reduce the size of the population:\n",
    " - Increase $d_{min}$, $\\alpha$, $\\beta$  \n",
    " - Change the unit of diversion to be the same as unit of analysis\n",
    " - Target to a specific population"
   ]
  },
  {
   "cell_type": "markdown",
   "metadata": {},
   "source": [
    "# Decide the duration of an experiment"
   ]
  },
  {
   "cell_type": "markdown",
   "metadata": {},
   "source": [
    "Daily traffic of your website, and what proportion of the traffic you wanted to direct to control and experiment group will affect how many days you want to run a experiment."
   ]
  },
  {
   "cell_type": "markdown",
   "metadata": {},
   "source": [
    "**Duration**: How long you want to run the experiment (10 days, 20 days, etc.)  \n",
    "**Exposure**: What proportion of the traffic will be exposed to your experiment.\n",
    "\n",
    "Reduce exposure will increase duration."
   ]
  },
  {
   "cell_type": "markdown",
   "metadata": {},
   "source": [
    "Example:\n",
    "![alt text](Pic3.png \"Duration example\")"
   ]
  }
 ],
 "metadata": {
  "kernelspec": {
   "display_name": "Python 3",
   "language": "python",
   "name": "python3"
  },
  "language_info": {
   "codemirror_mode": {
    "name": "ipython",
    "version": 3
   },
   "file_extension": ".py",
   "mimetype": "text/x-python",
   "name": "python",
   "nbconvert_exporter": "python",
   "pygments_lexer": "ipython3",
   "version": "3.7.4"
  },
  "toc": {
   "base_numbering": 1,
   "nav_menu": {},
   "number_sections": true,
   "sideBar": true,
   "skip_h1_title": false,
   "title_cell": "Table of Contents",
   "title_sidebar": "Contents",
   "toc_cell": false,
   "toc_position": {},
   "toc_section_display": true,
   "toc_window_display": false
  }
 },
 "nbformat": 4,
 "nbformat_minor": 2
}

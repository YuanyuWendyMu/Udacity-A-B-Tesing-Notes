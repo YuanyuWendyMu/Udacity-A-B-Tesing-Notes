{
 "cells": [
  {
   "cell_type": "markdown",
   "metadata": {},
   "source": [
    "# When to use A/B testing"
   ]
  },
  {
   "cell_type": "markdown",
   "metadata": {},
   "source": [
    "A/B testing helps to improve the existing product, but not so helpful to test new experiences / testing for something that is missing."
   ]
  },
  {
   "cell_type": "markdown",
   "metadata": {},
   "source": [
    "**Example**  \n",
    "Q: Can you use A/B testing?  \n",
    "\n",
    "A. Whether a shopping site is complete    \n",
    "B. Add a premium service  \n",
    "C. New recommendation algorithm   \n",
    "D. Change page load time  \n",
    "E. A car sale website want to see if a change lead to customer referral  \n",
    "F. Change of a brand logo  \n",
    "G. Initial page layout change  \n",
    "\n",
    "A：\n",
    "No, No, Yes, Yes, No, No, Yes"
   ]
  },
  {
   "cell_type": "markdown",
   "metadata": {},
   "source": [
    "# A/B testing process w/t a business example"
   ]
  },
  {
   "cell_type": "markdown",
   "metadata": {},
   "source": [
    "## Choose a metric"
   ]
  },
  {
   "cell_type": "markdown",
   "metadata": {},
   "source": [
    "Difference between click-through-rate & click-through-probability:  \n",
    "\n",
    "CTR = clicks / page views  \n",
    "CT Probability = unique visitor who clicked / unique visitors to the site     \n",
    "CTR is more suitable to measure the usability of a site, while CT Probability focus on the total impact. "
   ]
  },
  {
   "cell_type": "markdown",
   "metadata": {},
   "source": [
    "## Review the stats - binomial distribution"
   ]
  },
  {
   "cell_type": "markdown",
   "metadata": {},
   "source": [
    "### Three conditions to use binomial distribution "
   ]
  },
  {
   "cell_type": "markdown",
   "metadata": {},
   "source": [
    "(think about throw a coin for 20 times)  \n",
    "1. Only two outcomes: head, tail  \n",
    "2. Each throw is independent of each other  \n",
    "3. Same distribution: each time prob' of getting head is 0.5   "
   ]
  },
  {
   "cell_type": "markdown",
   "metadata": {},
   "source": [
    "### Calculate probability"
   ]
  },
  {
   "cell_type": "markdown",
   "metadata": {},
   "source": [
    "N unique visitors  \n",
    "X unique visitors who clicked  \n",
    "$\\hat{p}$ = N/X"
   ]
  },
  {
   "cell_type": "markdown",
   "metadata": {},
   "source": [
    "### Confidence interval"
   ]
  },
  {
   "cell_type": "markdown",
   "metadata": {},
   "source": [
    "Check if normal → $\\hat{p}$ * N >5  \n",
    "SE = $\\sqrt{\\frac{\\hat{p}*(1-\\hat{p})}{N}}$  \n",
    "m = Z* SE  \n",
    "CI = $\\hat{p}$  $\\pm$ m  "
   ]
  },
  {
   "cell_type": "markdown",
   "metadata": {},
   "source": [
    "### Sample t-test"
   ]
  },
  {
   "cell_type": "markdown",
   "metadata": {},
   "source": [
    " Denote    | Control | Experiment\n",
    "--- | --- | ---\n",
    "X | $X_{cont}$ | $X_{exp}$\n",
    "N | $N_{cont}$  | $N_{exp}$ \n",
    "\n",
    "$\\hat{p_{pool}}$ = $\\frac{X_{cont}+X_{exp}}{N_{cont}+N_{exp}}$  \n",
    "$SE_{pool}$ = $\\sqrt{\\hat{p_{pool}} * (1-\\hat{p_{pool}}) *( \\frac{1}{N_{cont}} + \\frac{1}{N_{exp}})}$   \n",
    "$\\hat{d}$ = $\\hat{p_{exp}} - \\hat{p_{cont}}$  \n",
    "If $\\hat{d}$ > 1.96 * $SE_{pool}$ or < -1.96 *$SE_{pool}$ then reject null  "
   ]
  },
  {
   "cell_type": "markdown",
   "metadata": {},
   "source": [
    "### Statistical significant vs practical significant"
   ]
  },
  {
   "cell_type": "markdown",
   "metadata": {},
   "source": [
    "Statistical significant: pass t-test  \n",
    "Practical significant: meet business standard for minimal magnitude of change"
   ]
  },
  {
   "cell_type": "markdown",
   "metadata": {},
   "source": [
    "## Experiment design - decide sample size"
   ]
  },
  {
   "cell_type": "markdown",
   "metadata": {},
   "source": [
    "Sample Size Calculator: https://www.evanmiller.org/ab-testing/sample-size.html   \n",
    "There is a size-power trade-off. Small sample size has low $\\alpha$ and high $\\beta$"
   ]
  },
  {
   "cell_type": "markdown",
   "metadata": {},
   "source": [
    "## Analyze results"
   ]
  },
  {
   "cell_type": "markdown",
   "metadata": {},
   "source": [
    "![alt text](Pic1.png \"Dealing with different test results\")"
   ]
  }
 ],
 "metadata": {
  "kernelspec": {
   "display_name": "Python 3",
   "language": "python",
   "name": "python3"
  },
  "language_info": {
   "codemirror_mode": {
    "name": "ipython",
    "version": 3
   },
   "file_extension": ".py",
   "mimetype": "text/x-python",
   "name": "python",
   "nbconvert_exporter": "python",
   "pygments_lexer": "ipython3",
   "version": "3.7.4"
  },
  "toc": {
   "base_numbering": 1,
   "nav_menu": {},
   "number_sections": true,
   "sideBar": true,
   "skip_h1_title": false,
   "title_cell": "Table of Contents",
   "title_sidebar": "Contents",
   "toc_cell": false,
   "toc_position": {
    "height": "calc(100% - 180px)",
    "left": "10px",
    "top": "150px",
    "width": "256px"
   },
   "toc_section_display": true,
   "toc_window_display": true
  }
 },
 "nbformat": 4,
 "nbformat_minor": 2
}
